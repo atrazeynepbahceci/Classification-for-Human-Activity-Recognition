{
 "cells": [
  {
   "cell_type": "code",
   "execution_count": null,
   "metadata": {
    "id": "a-xapbaMehOv"
   },
   "outputs": [],
   "source": [
    "import pandas as pd\n",
    "import numpy as np\n",
    "import matplotlib.pyplot as plt\n",
    "from sklearn.svm import SVC\n",
    "from sklearn.metrics import accuracy_score, precision_score, recall_score, f1_score\n",
    "from sklearn.metrics import confusion_matrix, classification_report, ConfusionMatrixDisplay\n",
    "from sklearn.model_selection import RepeatedStratifiedKFold, GridSearchCV, KFold, train_test_split, StratifiedShuffleSplit\n",
    "from sklearn.feature_selection import SequentialFeatureSelector\n",
    "from sklearn.feature_selection import SelectFromModel\n",
    "from sklearn.linear_model import LogisticRegression"
   ]
  },
  {
   "cell_type": "code",
   "execution_count": null,
   "metadata": {
    "id": "wiH_GwRSH5sJ"
   },
   "outputs": [],
   "source": [
    "def get_scores(y_true, y_pred, classifier_name):\n",
    "    result = pd.DataFrame()\n",
    "    result[\"Classifier\"] = [classifier_name]\n",
    "    result[\"Accuracy\"] = [accuracy_score(y_true, y_pred)]\n",
    "    result[\"F1-Score (Macro)\"] = [f1_score(y_true, y_pred, average=\"macro\")]\n",
    "    result[\"Precision  (Macro)\"] = [precision_score(y_true, y_pred, average=\"macro\")]\n",
    "    result[\"Recall  (Macro)\"] = [recall_score(y_true, y_pred, average=\"macro\")]\n",
    "    result[\"F1-Score (Micro)\"] = [f1_score(y_true, y_pred, average=\"micro\")]\n",
    "    result[\"Precision  (Micro)\"] = [precision_score(y_true, y_pred, average=\"micro\")]\n",
    "    result[\"Recall  (Micro)\"] = [recall_score(y_true, y_pred, average=\"micro\")]\n",
    "    result[\"F1-Score (Weighted)\"] = [f1_score(y_true, y_pred, average=\"weighted\")]\n",
    "    result[\"Precision  (Weighted)\"] = [precision_score(y_true, y_pred, average=\"weighted\")]\n",
    "    result[\"Recall  (Weighted)\"] = [recall_score(y_true, y_pred, average=\"weighted\")]\n",
    "\n",
    "    return result"
   ]
  },
  {
   "cell_type": "markdown",
   "metadata": {
    "id": "s0rNrlNx35Me"
   },
   "source": [
    "# Load Data"
   ]
  },
  {
   "cell_type": "code",
   "execution_count": null,
   "metadata": {
    "id": "OyT8VcQL30V6"
   },
   "outputs": [],
   "source": [
    "train = pd.read_csv(\"train.csv\", index_col=None)\n",
    "\n",
    "test = pd.read_csv(\"test.csv\", index_col=None)"
   ]
  },
  {
   "cell_type": "markdown",
   "metadata": {
    "id": "I5TNkGNs4GtK"
   },
   "source": [
    "# Split Train/Val"
   ]
  },
  {
   "cell_type": "code",
   "execution_count": null,
   "metadata": {
    "id": "gIpAkOFE4JSm"
   },
   "outputs": [],
   "source": [
    "X_train=train.iloc[:,:-3]\n",
    "y_train=train[\"Label\"]\n",
    "X_test=test.iloc[:,:-3]\n",
    "y_test=test[\"Label\"]"
   ]
  },
  {
   "cell_type": "code",
   "execution_count": null,
   "metadata": {
    "id": "fLe1PzZh4Z2m"
   },
   "outputs": [],
   "source": [
    "y_train = np.array(y_train)\n",
    "y_test = np.array(y_test)"
   ]
  },
  {
   "cell_type": "code",
   "execution_count": null,
   "metadata": {
    "colab": {
     "base_uri": "https://localhost:8080/"
    },
    "id": "LEHo5EPX4ml2",
    "outputId": "127fe303-80d2-42a3-b697-78b2d732d0cf"
   },
   "outputs": [
    {
     "name": "stdout",
     "output_type": "stream",
     "text": [
      "(7352, 561) (7352,) (2947, 561) (2947,)\n"
     ]
    }
   ],
   "source": [
    "print(X_train.shape, y_train.shape, X_test.shape, y_test.shape)"
   ]
  },
  {
   "cell_type": "markdown",
   "metadata": {
    "id": "CHSoVfhTeznC"
   },
   "source": [
    "# Validation"
   ]
  },
  {
   "cell_type": "code",
   "execution_count": null,
   "metadata": {
    "colab": {
     "base_uri": "https://localhost:8080/"
    },
    "id": "J2hJCglweySn",
    "outputId": "87236e5d-85e5-4102-d7fa-f887260e6557"
   },
   "outputs": [
    {
     "name": "stdout",
     "output_type": "stream",
     "text": [
      "Fitting 3 folds for each of 24 candidates, totalling 72 fits\n",
      "[CV 1/3] END ............C=0.001, kernel=linear;, score=0.920 total time=   5.9s\n",
      "[CV 2/3] END ............C=0.001, kernel=linear;, score=0.911 total time=   5.8s\n",
      "[CV 3/3] END ............C=0.001, kernel=linear;, score=0.903 total time=   5.7s\n",
      "[CV 1/3] END ..............C=0.001, kernel=poly;, score=0.549 total time=  12.7s\n",
      "[CV 2/3] END ..............C=0.001, kernel=poly;, score=0.547 total time=  12.9s\n",
      "[CV 3/3] END ..............C=0.001, kernel=poly;, score=0.542 total time=  12.6s\n",
      "[CV 1/3] END ...............C=0.001, kernel=rbf;, score=0.192 total time=  24.1s\n",
      "[CV 2/3] END ...............C=0.001, kernel=rbf;, score=0.192 total time=  24.3s\n",
      "[CV 3/3] END ...............C=0.001, kernel=rbf;, score=0.192 total time=  23.6s\n",
      "[CV 1/3] END ...........C=0.001, kernel=sigmoid;, score=0.192 total time=  22.1s\n",
      "[CV 2/3] END ...........C=0.001, kernel=sigmoid;, score=0.192 total time=  22.1s\n",
      "[CV 3/3] END ...........C=0.001, kernel=sigmoid;, score=0.192 total time=  22.0s\n",
      "[CV 1/3] END .............C=0.01, kernel=linear;, score=0.971 total time=   2.2s\n",
      "[CV 2/3] END .............C=0.01, kernel=linear;, score=0.966 total time=   2.0s\n",
      "[CV 3/3] END .............C=0.01, kernel=linear;, score=0.968 total time=   2.1s\n",
      "[CV 1/3] END ...............C=0.01, kernel=poly;, score=0.888 total time=   7.1s\n",
      "[CV 2/3] END ...............C=0.01, kernel=poly;, score=0.874 total time=   6.8s\n",
      "[CV 3/3] END ...............C=0.01, kernel=poly;, score=0.865 total time=   7.0s\n",
      "[CV 1/3] END ................C=0.01, kernel=rbf;, score=0.622 total time=  16.6s\n",
      "[CV 2/3] END ................C=0.01, kernel=rbf;, score=0.626 total time=  18.1s\n",
      "[CV 3/3] END ................C=0.01, kernel=rbf;, score=0.620 total time=  16.5s\n",
      "[CV 1/3] END ............C=0.01, kernel=sigmoid;, score=0.203 total time=  22.2s\n",
      "[CV 2/3] END ............C=0.01, kernel=sigmoid;, score=0.203 total time=  21.6s\n",
      "[CV 3/3] END ............C=0.01, kernel=sigmoid;, score=0.201 total time=  21.9s\n",
      "[CV 1/3] END ..............C=0.1, kernel=linear;, score=0.980 total time=   1.2s\n",
      "[CV 2/3] END ..............C=0.1, kernel=linear;, score=0.984 total time=   1.2s\n",
      "[CV 3/3] END ..............C=0.1, kernel=linear;, score=0.980 total time=   1.2s\n",
      "[CV 1/3] END ................C=0.1, kernel=poly;, score=0.966 total time=   2.9s\n",
      "[CV 2/3] END ................C=0.1, kernel=poly;, score=0.961 total time=   3.0s\n",
      "[CV 3/3] END ................C=0.1, kernel=poly;, score=0.959 total time=   2.9s\n",
      "[CV 1/3] END .................C=0.1, kernel=rbf;, score=0.924 total time=   8.1s\n",
      "[CV 2/3] END .................C=0.1, kernel=rbf;, score=0.913 total time=   8.4s\n",
      "[CV 3/3] END .................C=0.1, kernel=rbf;, score=0.907 total time=   8.7s\n",
      "[CV 1/3] END .............C=0.1, kernel=sigmoid;, score=0.587 total time=  17.7s\n",
      "[CV 2/3] END .............C=0.1, kernel=sigmoid;, score=0.578 total time=  19.7s\n",
      "[CV 3/3] END .............C=0.1, kernel=sigmoid;, score=0.591 total time=  19.1s\n",
      "[CV 1/3] END ................C=1, kernel=linear;, score=0.984 total time=   1.1s\n",
      "[CV 2/3] END ................C=1, kernel=linear;, score=0.987 total time=   1.1s\n",
      "[CV 3/3] END ................C=1, kernel=linear;, score=0.984 total time=   1.1s\n",
      "[CV 1/3] END ..................C=1, kernel=poly;, score=0.981 total time=   1.5s\n",
      "[CV 2/3] END ..................C=1, kernel=poly;, score=0.983 total time=   1.5s\n",
      "[CV 3/3] END ..................C=1, kernel=poly;, score=0.981 total time=   1.4s\n",
      "[CV 1/3] END ...................C=1, kernel=rbf;, score=0.973 total time=   3.4s\n",
      "[CV 2/3] END ...................C=1, kernel=rbf;, score=0.970 total time=   3.6s\n",
      "[CV 3/3] END ...................C=1, kernel=rbf;, score=0.969 total time=   3.6s\n",
      "[CV 1/3] END ...............C=1, kernel=sigmoid;, score=0.856 total time=   9.6s\n",
      "[CV 2/3] END ...............C=1, kernel=sigmoid;, score=0.855 total time=   9.4s\n",
      "[CV 3/3] END ...............C=1, kernel=sigmoid;, score=0.856 total time=   9.6s\n",
      "[CV 1/3] END ...............C=10, kernel=linear;, score=0.978 total time=   1.1s\n",
      "[CV 2/3] END ...............C=10, kernel=linear;, score=0.980 total time=   1.1s\n",
      "[CV 3/3] END ...............C=10, kernel=linear;, score=0.982 total time=   1.1s\n",
      "[CV 1/3] END .................C=10, kernel=poly;, score=0.986 total time=   1.1s\n",
      "[CV 2/3] END .................C=10, kernel=poly;, score=0.989 total time=   1.1s\n",
      "[CV 3/3] END .................C=10, kernel=poly;, score=0.988 total time=   1.1s\n",
      "[CV 1/3] END ..................C=10, kernel=rbf;, score=0.982 total time=   2.0s\n",
      "[CV 2/3] END ..................C=10, kernel=rbf;, score=0.988 total time=   1.9s\n",
      "[CV 3/3] END ..................C=10, kernel=rbf;, score=0.986 total time=   1.9s\n",
      "[CV 1/3] END ..............C=10, kernel=sigmoid;, score=0.877 total time=   4.1s\n",
      "[CV 2/3] END ..............C=10, kernel=sigmoid;, score=0.878 total time=   4.1s\n",
      "[CV 3/3] END ..............C=10, kernel=sigmoid;, score=0.876 total time=   3.9s\n",
      "[CV 1/3] END ..............C=100, kernel=linear;, score=0.976 total time=   1.1s\n",
      "[CV 2/3] END ..............C=100, kernel=linear;, score=0.978 total time=   1.1s\n",
      "[CV 3/3] END ..............C=100, kernel=linear;, score=0.981 total time=   1.2s\n",
      "[CV 1/3] END ................C=100, kernel=poly;, score=0.983 total time=   1.1s\n",
      "[CV 2/3] END ................C=100, kernel=poly;, score=0.985 total time=   1.1s\n",
      "[CV 3/3] END ................C=100, kernel=poly;, score=0.989 total time=   1.2s\n",
      "[CV 1/3] END .................C=100, kernel=rbf;, score=0.986 total time=   1.7s\n",
      "[CV 2/3] END .................C=100, kernel=rbf;, score=0.990 total time=   1.7s\n",
      "[CV 3/3] END .................C=100, kernel=rbf;, score=0.990 total time=   1.7s\n",
      "[CV 1/3] END .............C=100, kernel=sigmoid;, score=0.844 total time=   2.0s\n",
      "[CV 2/3] END .............C=100, kernel=sigmoid;, score=0.860 total time=   1.9s\n",
      "[CV 3/3] END .............C=100, kernel=sigmoid;, score=0.860 total time=   2.0s\n",
      "{'C': 100, 'kernel': 'rbf'} 0.9891230455472467\n"
     ]
    }
   ],
   "source": [
    "kernel_list=[\"linear\", \"poly\", \"rbf\",\"sigmoid\"]\n",
    "C_list=[0.001,0.01,0.1,1,10,100]\n",
    "param_grid = dict(kernel=kernel_list, C=C_list)\n",
    "\n",
    "cv = StratifiedShuffleSplit(n_splits=3, test_size=0.2, random_state=42)\n",
    "grid = GridSearchCV(SVC(), param_grid=param_grid, cv=cv, verbose=3)\n",
    "grid.fit(X_train, y_train)\n",
    "\n",
    "print(grid.best_params_, grid.best_score_)"
   ]
  },
  {
   "cell_type": "code",
   "execution_count": null,
   "metadata": {
    "colab": {
     "base_uri": "https://localhost:8080/"
    },
    "id": "zeglyHWsXaEr",
    "outputId": "3edc8fa1-0d29-4352-f8c8-2d9731f19787"
   },
   "outputs": [
    {
     "name": "stdout",
     "output_type": "stream",
     "text": [
      "Fitting 3 folds for each of 25 candidates, totalling 75 fits\n",
      "[CV 1/3] END ...............C=0.01, gamma=1e-09;, score=0.192 total time=  23.9s\n",
      "[CV 2/3] END ...............C=0.01, gamma=1e-09;, score=0.192 total time=  23.3s\n",
      "[CV 3/3] END ...............C=0.01, gamma=1e-09;, score=0.192 total time=  22.9s\n",
      "[CV 1/3] END ...............C=0.01, gamma=1e-06;, score=0.192 total time=  23.1s\n",
      "[CV 2/3] END ...............C=0.01, gamma=1e-06;, score=0.192 total time=  23.8s\n",
      "[CV 3/3] END ...............C=0.01, gamma=1e-06;, score=0.192 total time=  22.6s\n",
      "[CV 1/3] END ...............C=0.01, gamma=0.001;, score=0.357 total time=  21.5s\n",
      "[CV 2/3] END ...............C=0.01, gamma=0.001;, score=0.357 total time=  23.1s\n",
      "[CV 3/3] END ...............C=0.01, gamma=0.001;, score=0.357 total time=  22.8s\n",
      "[CV 1/3] END .................C=0.01, gamma=1.0;, score=0.192 total time=  26.7s\n",
      "[CV 2/3] END .................C=0.01, gamma=1.0;, score=0.192 total time=  28.4s\n",
      "[CV 3/3] END .................C=0.01, gamma=1.0;, score=0.192 total time=  28.7s\n",
      "[CV 1/3] END ..............C=0.01, gamma=1000.0;, score=0.192 total time=  27.1s\n",
      "[CV 2/3] END ..............C=0.01, gamma=1000.0;, score=0.192 total time=  23.5s\n",
      "[CV 3/3] END ..............C=0.01, gamma=1000.0;, score=0.192 total time=  23.6s\n",
      "[CV 1/3] END ...............C=10.0, gamma=1e-09;, score=0.192 total time=  22.6s\n",
      "[CV 2/3] END ...............C=10.0, gamma=1e-09;, score=0.192 total time=  24.0s\n",
      "[CV 3/3] END ...............C=10.0, gamma=1e-09;, score=0.192 total time=  23.5s\n",
      "[CV 1/3] END ...............C=10.0, gamma=1e-06;, score=0.357 total time=  21.6s\n",
      "[CV 2/3] END ...............C=10.0, gamma=1e-06;, score=0.357 total time=  21.6s\n",
      "[CV 3/3] END ...............C=10.0, gamma=1e-06;, score=0.358 total time=  21.5s\n",
      "[CV 1/3] END ...............C=10.0, gamma=0.001;, score=0.976 total time=   2.7s\n",
      "[CV 2/3] END ...............C=10.0, gamma=0.001;, score=0.973 total time=   2.6s\n",
      "[CV 3/3] END ...............C=10.0, gamma=0.001;, score=0.975 total time=   2.7s\n",
      "[CV 1/3] END .................C=10.0, gamma=1.0;, score=0.225 total time=  27.0s\n",
      "[CV 2/3] END .................C=10.0, gamma=1.0;, score=0.218 total time=  25.1s\n",
      "[CV 3/3] END .................C=10.0, gamma=1.0;, score=0.219 total time=  25.0s\n",
      "[CV 1/3] END ..............C=10.0, gamma=1000.0;, score=0.192 total time=  24.2s\n",
      "[CV 2/3] END ..............C=10.0, gamma=1000.0;, score=0.192 total time=  23.2s\n",
      "[CV 3/3] END ..............C=10.0, gamma=1000.0;, score=0.192 total time=  23.5s\n",
      "[CV 1/3] END ............C=10000.0, gamma=1e-09;, score=0.358 total time=  21.6s\n",
      "[CV 2/3] END ............C=10000.0, gamma=1e-09;, score=0.357 total time=  21.3s\n",
      "[CV 3/3] END ............C=10000.0, gamma=1e-09;, score=0.358 total time=  21.5s\n",
      "[CV 1/3] END ............C=10000.0, gamma=1e-06;, score=0.976 total time=   2.7s\n",
      "[CV 2/3] END ............C=10000.0, gamma=1e-06;, score=0.974 total time=   2.6s\n",
      "[CV 3/3] END ............C=10000.0, gamma=1e-06;, score=0.975 total time=   2.7s\n",
      "[CV 1/3] END ............C=10000.0, gamma=0.001;, score=0.982 total time=   1.5s\n",
      "[CV 2/3] END ............C=10000.0, gamma=0.001;, score=0.984 total time=   1.5s\n",
      "[CV 3/3] END ............C=10000.0, gamma=0.001;, score=0.983 total time=   1.5s\n",
      "[CV 1/3] END ..............C=10000.0, gamma=1.0;, score=0.225 total time=  25.3s\n",
      "[CV 2/3] END ..............C=10000.0, gamma=1.0;, score=0.218 total time=  24.5s\n",
      "[CV 3/3] END ..............C=10000.0, gamma=1.0;, score=0.219 total time=  25.1s\n",
      "[CV 1/3] END ...........C=10000.0, gamma=1000.0;, score=0.192 total time=  23.5s\n",
      "[CV 2/3] END ...........C=10000.0, gamma=1000.0;, score=0.192 total time=  25.1s\n",
      "[CV 3/3] END ...........C=10000.0, gamma=1000.0;, score=0.192 total time=  23.4s\n",
      "[CV 1/3] END .........C=10000000.0, gamma=1e-09;, score=0.804 total time=   3.9s\n",
      "[CV 2/3] END .........C=10000000.0, gamma=1e-09;, score=0.785 total time=   3.6s\n",
      "[CV 3/3] END .........C=10000000.0, gamma=1e-09;, score=0.782 total time=   4.2s\n",
      "[CV 1/3] END .........C=10000000.0, gamma=1e-06;, score=0.978 total time=   1.6s\n",
      "[CV 2/3] END .........C=10000000.0, gamma=1e-06;, score=0.980 total time=   1.7s\n",
      "[CV 3/3] END .........C=10000000.0, gamma=1e-06;, score=0.980 total time=   2.2s\n",
      "[CV 1/3] END .........C=10000000.0, gamma=0.001;, score=0.982 total time=   1.5s\n",
      "[CV 2/3] END .........C=10000000.0, gamma=0.001;, score=0.984 total time=   1.5s\n",
      "[CV 3/3] END .........C=10000000.0, gamma=0.001;, score=0.983 total time=   1.5s\n",
      "[CV 1/3] END ...........C=10000000.0, gamma=1.0;, score=0.225 total time=  24.4s\n",
      "[CV 2/3] END ...........C=10000000.0, gamma=1.0;, score=0.218 total time=  24.7s\n",
      "[CV 3/3] END ...........C=10000000.0, gamma=1.0;, score=0.219 total time=  24.8s\n",
      "[CV 1/3] END ........C=10000000.0, gamma=1000.0;, score=0.192 total time=  23.9s\n",
      "[CV 2/3] END ........C=10000000.0, gamma=1000.0;, score=0.192 total time=  23.4s\n",
      "[CV 3/3] END ........C=10000000.0, gamma=1000.0;, score=0.192 total time=  23.9s\n",
      "[CV 1/3] END ......C=10000000000.0, gamma=1e-09;, score=0.787 total time=   3.4s\n",
      "[CV 2/3] END ......C=10000000000.0, gamma=1e-09;, score=0.777 total time=   3.6s\n",
      "[CV 3/3] END ......C=10000000000.0, gamma=1e-09;, score=0.780 total time=   4.0s\n",
      "[CV 1/3] END ......C=10000000000.0, gamma=1e-06;, score=0.975 total time=   3.2s\n",
      "[CV 2/3] END ......C=10000000000.0, gamma=1e-06;, score=0.978 total time=   1.9s\n",
      "[CV 3/3] END ......C=10000000000.0, gamma=1e-06;, score=0.981 total time=   2.6s\n",
      "[CV 1/3] END ......C=10000000000.0, gamma=0.001;, score=0.982 total time=   1.5s\n",
      "[CV 2/3] END ......C=10000000000.0, gamma=0.001;, score=0.984 total time=   1.5s\n",
      "[CV 3/3] END ......C=10000000000.0, gamma=0.001;, score=0.983 total time=   1.5s\n",
      "[CV 1/3] END ........C=10000000000.0, gamma=1.0;, score=0.225 total time=  25.2s\n",
      "[CV 2/3] END ........C=10000000000.0, gamma=1.0;, score=0.218 total time=  25.4s\n",
      "[CV 3/3] END ........C=10000000000.0, gamma=1.0;, score=0.219 total time=  25.3s\n",
      "[CV 1/3] END .....C=10000000000.0, gamma=1000.0;, score=0.192 total time=  25.0s\n",
      "[CV 2/3] END .....C=10000000000.0, gamma=1000.0;, score=0.192 total time=  23.4s\n",
      "[CV 3/3] END .....C=10000000000.0, gamma=1000.0;, score=0.192 total time=  23.1s\n",
      "{'C': 10000.0, 'gamma': 0.001} 0.9832313618853387\n"
     ]
    }
   ],
   "source": [
    "C_range = np.logspace(-2, 10, 5)\n",
    "gamma_range = np.logspace(-9, 3, 5)\n",
    "param_grid = dict(gamma=gamma_range, C=C_range)\n",
    "\n",
    "cv = StratifiedShuffleSplit(n_splits=3, test_size=0.2, random_state=42)\n",
    "grid = GridSearchCV(SVC(), param_grid=param_grid, cv=cv, verbose=3)\n",
    "grid.fit(X_train, y_train)\n",
    "\n",
    "print(grid.best_params_, grid.best_score_)"
   ]
  },
  {
   "cell_type": "markdown",
   "metadata": {
    "id": "16Him-y6fY6u"
   },
   "source": [
    "# Prediction & Performance"
   ]
  },
  {
   "cell_type": "code",
   "execution_count": null,
   "metadata": {
    "colab": {
     "base_uri": "https://localhost:8080/",
     "height": 142
    },
    "id": "gXX7Gr76e3lV",
    "outputId": "4b009fc4-56cb-4f24-f292-5f30e262f67e"
   },
   "outputs": [
    {
     "data": {
      "text/html": [
       "\n",
       "  <div id=\"df-5e3db3bc-3f4d-47db-a251-483d50e9b91e\">\n",
       "    <div class=\"colab-df-container\">\n",
       "      <div>\n",
       "<style scoped>\n",
       "    .dataframe tbody tr th:only-of-type {\n",
       "        vertical-align: middle;\n",
       "    }\n",
       "\n",
       "    .dataframe tbody tr th {\n",
       "        vertical-align: top;\n",
       "    }\n",
       "\n",
       "    .dataframe thead th {\n",
       "        text-align: right;\n",
       "    }\n",
       "</style>\n",
       "<table border=\"1\" class=\"dataframe\">\n",
       "  <thead>\n",
       "    <tr style=\"text-align: right;\">\n",
       "      <th></th>\n",
       "      <th>Classifier</th>\n",
       "      <th>Accuracy</th>\n",
       "      <th>F1-Score (Macro)</th>\n",
       "      <th>Precision  (Macro)</th>\n",
       "      <th>Recall  (Macro)</th>\n",
       "      <th>F1-Score (Micro)</th>\n",
       "      <th>Precision  (Micro)</th>\n",
       "      <th>Recall  (Micro)</th>\n",
       "      <th>F1-Score (Weighted)</th>\n",
       "      <th>Precision  (Weighted)</th>\n",
       "      <th>Recall  (Weighted)</th>\n",
       "    </tr>\n",
       "  </thead>\n",
       "  <tbody>\n",
       "    <tr>\n",
       "      <th>0</th>\n",
       "      <td>SVM</td>\n",
       "      <td>0.96946</td>\n",
       "      <td>0.969412</td>\n",
       "      <td>0.970864</td>\n",
       "      <td>0.968726</td>\n",
       "      <td>0.96946</td>\n",
       "      <td>0.96946</td>\n",
       "      <td>0.96946</td>\n",
       "      <td>0.9694</td>\n",
       "      <td>0.970116</td>\n",
       "      <td>0.96946</td>\n",
       "    </tr>\n",
       "  </tbody>\n",
       "</table>\n",
       "</div>\n",
       "      <button class=\"colab-df-convert\" onclick=\"convertToInteractive('df-5e3db3bc-3f4d-47db-a251-483d50e9b91e')\"\n",
       "              title=\"Convert this dataframe to an interactive table.\"\n",
       "              style=\"display:none;\">\n",
       "        \n",
       "  <svg xmlns=\"http://www.w3.org/2000/svg\" height=\"24px\"viewBox=\"0 0 24 24\"\n",
       "       width=\"24px\">\n",
       "    <path d=\"M0 0h24v24H0V0z\" fill=\"none\"/>\n",
       "    <path d=\"M18.56 5.44l.94 2.06.94-2.06 2.06-.94-2.06-.94-.94-2.06-.94 2.06-2.06.94zm-11 1L8.5 8.5l.94-2.06 2.06-.94-2.06-.94L8.5 2.5l-.94 2.06-2.06.94zm10 10l.94 2.06.94-2.06 2.06-.94-2.06-.94-.94-2.06-.94 2.06-2.06.94z\"/><path d=\"M17.41 7.96l-1.37-1.37c-.4-.4-.92-.59-1.43-.59-.52 0-1.04.2-1.43.59L10.3 9.45l-7.72 7.72c-.78.78-.78 2.05 0 2.83L4 21.41c.39.39.9.59 1.41.59.51 0 1.02-.2 1.41-.59l7.78-7.78 2.81-2.81c.8-.78.8-2.07 0-2.86zM5.41 20L4 18.59l7.72-7.72 1.47 1.35L5.41 20z\"/>\n",
       "  </svg>\n",
       "      </button>\n",
       "      \n",
       "  <style>\n",
       "    .colab-df-container {\n",
       "      display:flex;\n",
       "      flex-wrap:wrap;\n",
       "      gap: 12px;\n",
       "    }\n",
       "\n",
       "    .colab-df-convert {\n",
       "      background-color: #E8F0FE;\n",
       "      border: none;\n",
       "      border-radius: 50%;\n",
       "      cursor: pointer;\n",
       "      display: none;\n",
       "      fill: #1967D2;\n",
       "      height: 32px;\n",
       "      padding: 0 0 0 0;\n",
       "      width: 32px;\n",
       "    }\n",
       "\n",
       "    .colab-df-convert:hover {\n",
       "      background-color: #E2EBFA;\n",
       "      box-shadow: 0px 1px 2px rgba(60, 64, 67, 0.3), 0px 1px 3px 1px rgba(60, 64, 67, 0.15);\n",
       "      fill: #174EA6;\n",
       "    }\n",
       "\n",
       "    [theme=dark] .colab-df-convert {\n",
       "      background-color: #3B4455;\n",
       "      fill: #D2E3FC;\n",
       "    }\n",
       "\n",
       "    [theme=dark] .colab-df-convert:hover {\n",
       "      background-color: #434B5C;\n",
       "      box-shadow: 0px 1px 3px 1px rgba(0, 0, 0, 0.15);\n",
       "      filter: drop-shadow(0px 1px 2px rgba(0, 0, 0, 0.3));\n",
       "      fill: #FFFFFF;\n",
       "    }\n",
       "  </style>\n",
       "\n",
       "      <script>\n",
       "        const buttonEl =\n",
       "          document.querySelector('#df-5e3db3bc-3f4d-47db-a251-483d50e9b91e button.colab-df-convert');\n",
       "        buttonEl.style.display =\n",
       "          google.colab.kernel.accessAllowed ? 'block' : 'none';\n",
       "\n",
       "        async function convertToInteractive(key) {\n",
       "          const element = document.querySelector('#df-5e3db3bc-3f4d-47db-a251-483d50e9b91e');\n",
       "          const dataTable =\n",
       "            await google.colab.kernel.invokeFunction('convertToInteractive',\n",
       "                                                     [key], {});\n",
       "          if (!dataTable) return;\n",
       "\n",
       "          const docLinkHtml = 'Like what you see? Visit the ' +\n",
       "            '<a target=\"_blank\" href=https://colab.research.google.com/notebooks/data_table.ipynb>data table notebook</a>'\n",
       "            + ' to learn more about interactive tables.';\n",
       "          element.innerHTML = '';\n",
       "          dataTable['output_type'] = 'display_data';\n",
       "          await google.colab.output.renderOutput(dataTable, element);\n",
       "          const docLink = document.createElement('div');\n",
       "          docLink.innerHTML = docLinkHtml;\n",
       "          element.appendChild(docLink);\n",
       "        }\n",
       "      </script>\n",
       "    </div>\n",
       "  </div>\n",
       "  "
      ],
      "text/plain": [
       "  Classifier  Accuracy  F1-Score (Macro)  Precision  (Macro)  Recall  (Macro)  \\\n",
       "0        SVM   0.96946          0.969412            0.970864         0.968726   \n",
       "\n",
       "   F1-Score (Micro)  Precision  (Micro)  Recall  (Micro)  F1-Score (Weighted)  \\\n",
       "0           0.96946             0.96946          0.96946               0.9694   \n",
       "\n",
       "   Precision  (Weighted)  Recall  (Weighted)  \n",
       "0               0.970116             0.96946  "
      ]
     },
     "execution_count": 19,
     "metadata": {},
     "output_type": "execute_result"
    }
   ],
   "source": [
    "svm = SVC(random_state=42, C=10000.0, gamma= 0.001, kernel=\"rbf\")\n",
    "svm.fit(X_train, y_train) \n",
    "y_pred = svm.predict(X_test)\n",
    "get_scores(y_test, y_pred, \"SVM\")"
   ]
  },
  {
   "cell_type": "code",
   "execution_count": null,
   "metadata": {
    "colab": {
     "base_uri": "https://localhost:8080/",
     "height": 279
    },
    "id": "Goxmp8DRj3jP",
    "outputId": "cce4992c-933e-43c6-a0f4-4e191e2bd08b"
   },
   "outputs": [
    {
     "data": {
      "image/png": "[encoded data removed]",
      "text/plain": [
       "<Figure size 432x288 with 2 Axes>"
      ]
     },
     "metadata": {
      "needs_background": "light"
     },
     "output_type": "display_data"
    }
   ],
   "source": [
    "conf = confusion_matrix(y_test, y_pred)\n",
    "disp = ConfusionMatrixDisplay(conf).plot(cmap=plt.cm.PuBuGn)"
   ]
  },
  {
   "cell_type": "markdown",
   "metadata": {
    "id": "ChSU7FOBfh3Z"
   },
   "source": [
    "# With Feature Selection"
   ]
  },
  {
   "cell_type": "code",
   "execution_count": null,
   "metadata": {
    "id": "c-r7bgBYlwK3"
   },
   "outputs": [],
   "source": [
    "selector = SelectFromModel(estimator=LogisticRegression(max_iter=10000)).fit(X_train, y_train)"
   ]
  },
  {
   "cell_type": "code",
   "execution_count": null,
   "metadata": {
    "colab": {
     "base_uri": "https://localhost:8080/"
    },
    "id": "Lrt0lzPFiMpY",
    "outputId": "eb1c2318-f75c-4f27-d41c-9a956f0583aa"
   },
   "outputs": [
    {
     "data": {
      "text/plain": [
       "0.9650203508155041"
      ]
     },
     "execution_count": 9,
     "metadata": {},
     "output_type": "execute_result"
    }
   ],
   "source": [
    "selector.threshold_"
   ]
  },
  {
   "cell_type": "code",
   "execution_count": null,
   "metadata": {
    "id": "OOkHC360lwK4"
   },
   "outputs": [],
   "source": [
    "X_new_train=selector.transform(X_train)\n",
    "X_new_test=selector.transform(X_test)"
   ]
  },
  {
   "cell_type": "code",
   "execution_count": null,
   "metadata": {
    "colab": {
     "base_uri": "https://localhost:8080/"
    },
    "id": "Dp7_oecplwK4",
    "outputId": "973b38f2-be13-403d-a005-eb160e853863"
   },
   "outputs": [
    {
     "data": {
      "text/plain": [
       "(7352, 190)"
      ]
     },
     "execution_count": 11,
     "metadata": {},
     "output_type": "execute_result"
    }
   ],
   "source": [
    "X_new_train.shape"
   ]
  },
  {
   "cell_type": "code",
   "execution_count": null,
   "metadata": {
    "colab": {
     "base_uri": "https://localhost:8080/",
     "height": 142
    },
    "id": "J8gcFxCnjpqi",
    "outputId": "62caf2cc-32b2-4a8a-df38-6a9b87722a06"
   },
   "outputs": [
    {
     "data": {
      "text/html": [
       "\n",
       "  <div id=\"df-5099f77e-97b8-4866-bde6-a324dade5100\">\n",
       "    <div class=\"colab-df-container\">\n",
       "      <div>\n",
       "<style scoped>\n",
       "    .dataframe tbody tr th:only-of-type {\n",
       "        vertical-align: middle;\n",
       "    }\n",
       "\n",
       "    .dataframe tbody tr th {\n",
       "        vertical-align: top;\n",
       "    }\n",
       "\n",
       "    .dataframe thead th {\n",
       "        text-align: right;\n",
       "    }\n",
       "</style>\n",
       "<table border=\"1\" class=\"dataframe\">\n",
       "  <thead>\n",
       "    <tr style=\"text-align: right;\">\n",
       "      <th></th>\n",
       "      <th>Classifier</th>\n",
       "      <th>Accuracy</th>\n",
       "      <th>F1-Score (Macro)</th>\n",
       "      <th>Precision  (Macro)</th>\n",
       "      <th>Recall  (Macro)</th>\n",
       "      <th>F1-Score (Micro)</th>\n",
       "      <th>Precision  (Micro)</th>\n",
       "      <th>Recall  (Micro)</th>\n",
       "      <th>F1-Score (Weighted)</th>\n",
       "      <th>Precision  (Weighted)</th>\n",
       "      <th>Recall  (Weighted)</th>\n",
       "    </tr>\n",
       "  </thead>\n",
       "  <tbody>\n",
       "    <tr>\n",
       "      <th>0</th>\n",
       "      <td>SVM</td>\n",
       "      <td>0.966067</td>\n",
       "      <td>0.965865</td>\n",
       "      <td>0.967314</td>\n",
       "      <td>0.965273</td>\n",
       "      <td>0.966067</td>\n",
       "      <td>0.966067</td>\n",
       "      <td>0.966067</td>\n",
       "      <td>0.965986</td>\n",
       "      <td>0.966782</td>\n",
       "      <td>0.966067</td>\n",
       "    </tr>\n",
       "  </tbody>\n",
       "</table>\n",
       "</div>\n",
       "      <button class=\"colab-df-convert\" onclick=\"convertToInteractive('df-5099f77e-97b8-4866-bde6-a324dade5100')\"\n",
       "              title=\"Convert this dataframe to an interactive table.\"\n",
       "              style=\"display:none;\">\n",
       "        \n",
       "  <svg xmlns=\"http://www.w3.org/2000/svg\" height=\"24px\"viewBox=\"0 0 24 24\"\n",
       "       width=\"24px\">\n",
       "    <path d=\"M0 0h24v24H0V0z\" fill=\"none\"/>\n",
       "    <path d=\"M18.56 5.44l.94 2.06.94-2.06 2.06-.94-2.06-.94-.94-2.06-.94 2.06-2.06.94zm-11 1L8.5 8.5l.94-2.06 2.06-.94-2.06-.94L8.5 2.5l-.94 2.06-2.06.94zm10 10l.94 2.06.94-2.06 2.06-.94-2.06-.94-.94-2.06-.94 2.06-2.06.94z\"/><path d=\"M17.41 7.96l-1.37-1.37c-.4-.4-.92-.59-1.43-.59-.52 0-1.04.2-1.43.59L10.3 9.45l-7.72 7.72c-.78.78-.78 2.05 0 2.83L4 21.41c.39.39.9.59 1.41.59.51 0 1.02-.2 1.41-.59l7.78-7.78 2.81-2.81c.8-.78.8-2.07 0-2.86zM5.41 20L4 18.59l7.72-7.72 1.47 1.35L5.41 20z\"/>\n",
       "  </svg>\n",
       "      </button>\n",
       "      \n",
       "  <style>\n",
       "    .colab-df-container {\n",
       "      display:flex;\n",
       "      flex-wrap:wrap;\n",
       "      gap: 12px;\n",
       "    }\n",
       "\n",
       "    .colab-df-convert {\n",
       "      background-color: #E8F0FE;\n",
       "      border: none;\n",
       "      border-radius: 50%;\n",
       "      cursor: pointer;\n",
       "      display: none;\n",
       "      fill: #1967D2;\n",
       "      height: 32px;\n",
       "      padding: 0 0 0 0;\n",
       "      width: 32px;\n",
       "    }\n",
       "\n",
       "    .colab-df-convert:hover {\n",
       "      background-color: #E2EBFA;\n",
       "      box-shadow: 0px 1px 2px rgba(60, 64, 67, 0.3), 0px 1px 3px 1px rgba(60, 64, 67, 0.15);\n",
       "      fill: #174EA6;\n",
       "    }\n",
       "\n",
       "    [theme=dark] .colab-df-convert {\n",
       "      background-color: #3B4455;\n",
       "      fill: #D2E3FC;\n",
       "    }\n",
       "\n",
       "    [theme=dark] .colab-df-convert:hover {\n",
       "      background-color: #434B5C;\n",
       "      box-shadow: 0px 1px 3px 1px rgba(0, 0, 0, 0.15);\n",
       "      filter: drop-shadow(0px 1px 2px rgba(0, 0, 0, 0.3));\n",
       "      fill: #FFFFFF;\n",
       "    }\n",
       "  </style>\n",
       "\n",
       "      <script>\n",
       "        const buttonEl =\n",
       "          document.querySelector('#df-5099f77e-97b8-4866-bde6-a324dade5100 button.colab-df-convert');\n",
       "        buttonEl.style.display =\n",
       "          google.colab.kernel.accessAllowed ? 'block' : 'none';\n",
       "\n",
       "        async function convertToInteractive(key) {\n",
       "          const element = document.querySelector('#df-5099f77e-97b8-4866-bde6-a324dade5100');\n",
       "          const dataTable =\n",
       "            await google.colab.kernel.invokeFunction('convertToInteractive',\n",
       "                                                     [key], {});\n",
       "          if (!dataTable) return;\n",
       "\n",
       "          const docLinkHtml = 'Like what you see? Visit the ' +\n",
       "            '<a target=\"_blank\" href=https://colab.research.google.com/notebooks/data_table.ipynb>data table notebook</a>'\n",
       "            + ' to learn more about interactive tables.';\n",
       "          element.innerHTML = '';\n",
       "          dataTable['output_type'] = 'display_data';\n",
       "          await google.colab.output.renderOutput(dataTable, element);\n",
       "          const docLink = document.createElement('div');\n",
       "          docLink.innerHTML = docLinkHtml;\n",
       "          element.appendChild(docLink);\n",
       "        }\n",
       "      </script>\n",
       "    </div>\n",
       "  </div>\n",
       "  "
      ],
      "text/plain": [
       "  Classifier  Accuracy  F1-Score (Macro)  Precision  (Macro)  Recall  (Macro)  \\\n",
       "0        SVM  0.966067          0.965865            0.967314         0.965273   \n",
       "\n",
       "   F1-Score (Micro)  Precision  (Micro)  Recall  (Micro)  F1-Score (Weighted)  \\\n",
       "0          0.966067            0.966067         0.966067             0.965986   \n",
       "\n",
       "   Precision  (Weighted)  Recall  (Weighted)  \n",
       "0               0.966782            0.966067  "
      ]
     },
     "execution_count": 14,
     "metadata": {},
     "output_type": "execute_result"
    }
   ],
   "source": [
    "svm = SVC(random_state=42, C=10000.0, gamma= 0.001, kernel=\"rbf\") \n",
    "svm.fit(X_new_train, y_train) \n",
    "y_pred = svm.predict(X_new_test)\n",
    "get_scores(y_test, y_pred, \"SVM\")"
   ]
  },
  {
   "cell_type": "code",
   "execution_count": null,
   "metadata": {
    "colab": {
     "base_uri": "https://localhost:8080/",
     "height": 279
    },
    "id": "GNc-orcwYIhu",
    "outputId": "87febbf4-bf9e-476c-cfe0-2c44482d66e8"
   },
   "outputs": [
    {
     "data": {
      "image/png": "[encoded data removed]",
      "text/plain": [
       "<Figure size 432x288 with 2 Axes>"
      ]
     },
     "metadata": {
      "needs_background": "light"
     },
     "output_type": "display_data"
    }
   ],
   "source": [
    "conf = confusion_matrix(y_test, y_pred)\n",
    "disp = ConfusionMatrixDisplay(conf).plot(cmap=plt.cm.PuBuGn)"
   ]
  }
 ],
 "metadata": {
  "colab": {
   "provenance": []
  },
  "gpuClass": "standard",
  "kernelspec": {
   "display_name": "Python 3",
   "language": "python",
   "name": "python3"
  },
  "language_info": {
   "codemirror_mode": {
    "name": "ipython",
    "version": 3
   },
   "file_extension": ".py",
   "mimetype": "text/x-python",
   "name": "python",
   "nbconvert_exporter": "python",
   "pygments_lexer": "ipython3",
   "version": "3.8.5"
  }
 },
 "nbformat": 4,
 "nbformat_minor": 1
}
