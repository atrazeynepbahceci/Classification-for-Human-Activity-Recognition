{
 "cells": [
  {
   "cell_type": "code",
   "execution_count": null,
   "metadata": {
    "colab": {
     "base_uri": "https://localhost:8080/",
     "height": 284
    },
    "id": "BQ3GITOITK5j",
    "outputId": "0963d839-01a3-4d97-ee3d-fb7ac01cc5c5"
   },
   "outputs": [
    {
     "name": "stdout",
     "output_type": "stream",
     "text": [
      "\u001b[33mWARNING: Skipping scikit-learn as it is not installed.\u001b[0m\u001b[33m\n",
      "\u001b[0mLooking in indexes: https://pypi.org/simple, https://us-python.pkg.dev/colab-wheels/public/simple/\n",
      "Collecting scikit-learn\n",
      "  Using cached scikit_learn-1.2.0-cp38-cp38-manylinux_2_17_x86_64.manylinux2014_x86_64.whl (9.7 MB)\n",
      "Requirement already satisfied: joblib>=1.1.1 in /usr/local/lib/python3.8/dist-packages (from scikit-learn) (1.2.0)\n",
      "Requirement already satisfied: threadpoolctl>=2.0.0 in /usr/local/lib/python3.8/dist-packages (from scikit-learn) (3.1.0)\n",
      "Requirement already satisfied: scipy>=1.3.2 in /usr/local/lib/python3.8/dist-packages (from scikit-learn) (1.7.3)\n",
      "Requirement already satisfied: numpy>=1.17.3 in /usr/local/lib/python3.8/dist-packages (from scikit-learn) (1.21.6)\n",
      "Installing collected packages: scikit-learn\n",
      "Successfully installed scikit-learn-1.2.0\n"
     ]
    },
    {
     "data": {
      "application/vnd.colab-display-data+json": {
       "pip_warning": {
        "packages": [
         "sklearn"
        ]
       }
      }
     },
     "metadata": {},
     "output_type": "display_data"
    }
   ],
   "source": [
    "!pip uninstall scikit-learn -y\n",
    "\n",
    "!pip install -U scikit-learn"
   ]
  },
  {
   "cell_type": "code",
   "execution_count": null,
   "metadata": {
    "id": "ZO2bEMyyLU5T"
   },
   "outputs": [],
   "source": [
    "import pandas as pd\n",
    "import numpy as np\n",
    "import matplotlib.pyplot as plt\n",
    "from sklearn.neighbors import KNeighborsClassifier\n",
    "from sklearn.linear_model import LogisticRegression\n",
    "from sklearn.metrics import accuracy_score, precision_score, recall_score, f1_score\n",
    "from sklearn.metrics import confusion_matrix, classification_report, ConfusionMatrixDisplay\n",
    "from sklearn.model_selection import RepeatedStratifiedKFold, GridSearchCV, KFold,train_test_split\n",
    "from sklearn.feature_selection import SelectFromModel\n",
    "from sklearn.naive_bayes import GaussianNB\n",
    "from sklearn.model_selection import GridSearchCV"
   ]
  },
  {
   "cell_type": "code",
   "execution_count": null,
   "metadata": {
    "id": "wiH_GwRSH5sJ"
   },
   "outputs": [],
   "source": [
    "def get_scores(y_true, y_pred, classifier_name):\n",
    "    result = pd.DataFrame()\n",
    "    result[\"Classifier\"] = [classifier_name]\n",
    "    result[\"Accuracy\"] = [accuracy_score(y_true, y_pred)]\n",
    "    result[\"F1-Score (Macro)\"] = [f1_score(y_true, y_pred, average=\"macro\")]\n",
    "    result[\"Precision  (Macro)\"] = [precision_score(y_true, y_pred, average=\"macro\")]\n",
    "    result[\"Recall  (Macro)\"] = [recall_score(y_true, y_pred, average=\"macro\")]\n",
    "    result[\"F1-Score (Micro)\"] = [f1_score(y_true, y_pred, average=\"micro\")]\n",
    "    result[\"Precision  (Micro)\"] = [precision_score(y_true, y_pred, average=\"micro\")]\n",
    "    result[\"Recall  (Micro)\"] = [recall_score(y_true, y_pred, average=\"micro\")]\n",
    "    result[\"F1-Score (Weighted)\"] = [f1_score(y_true, y_pred, average=\"weighted\")]\n",
    "    result[\"Precision  (Weighted)\"] = [precision_score(y_true, y_pred, average=\"weighted\")]\n",
    "    result[\"Recall  (Weighted)\"] = [recall_score(y_true, y_pred, average=\"weighted\")]\n",
    "\n",
    "    return result"
   ]
  },
  {
   "cell_type": "markdown",
   "metadata": {
    "id": "s0rNrlNx35Me"
   },
   "source": [
    "# Load Data"
   ]
  },
  {
   "cell_type": "code",
   "execution_count": null,
   "metadata": {
    "id": "OyT8VcQL30V6"
   },
   "outputs": [],
   "source": [
    "train = pd.read_csv(\"train.csv\", index_col=None)\n",
    "test = pd.read_csv(\"test.csv\", index_col=None)"
   ]
  },
  {
   "cell_type": "markdown",
   "metadata": {
    "id": "I5TNkGNs4GtK"
   },
   "source": [
    "# Split Train/Val"
   ]
  },
  {
   "cell_type": "code",
   "execution_count": null,
   "metadata": {
    "id": "fEPztDcaQwrW"
   },
   "outputs": [],
   "source": [
    "X_train=train.iloc[:,:-3]\n",
    "y_train=train[\"Label\"]\n",
    "X_test=test.iloc[:,:-3]\n",
    "y_test=test[\"Label\"]\n",
    "X_train, X_val, y_train, y_val = train_test_split(X_train, y_train, test_size=0.2, random_state=42) "
   ]
  },
  {
   "cell_type": "code",
   "execution_count": null,
   "metadata": {
    "id": "Vmn2l7QfQwrY"
   },
   "outputs": [],
   "source": [
    "y_train = np.array(y_train)\n",
    "y_val = np.array(y_val)\n",
    "y_test = np.array(y_test)"
   ]
  },
  {
   "cell_type": "code",
   "execution_count": null,
   "metadata": {
    "colab": {
     "base_uri": "https://localhost:8080/"
    },
    "id": "uORgbPOBQwrY",
    "outputId": "953b9522-9b17-4c25-d810-85d66d461229"
   },
   "outputs": [
    {
     "name": "stdout",
     "output_type": "stream",
     "text": [
      "(5881, 561) (5881,) (1471, 561) (1471,) (2947, 561) (2947,)\n"
     ]
    }
   ],
   "source": [
    "print(X_train.shape, y_train.shape, X_val.shape, y_val.shape, X_test.shape, y_test.shape)"
   ]
  },
  {
   "cell_type": "markdown",
   "metadata": {
    "id": "PBF8aVkpUb8E"
   },
   "source": [
    "# On Smoothing"
   ]
  },
  {
   "cell_type": "code",
   "execution_count": null,
   "metadata": {
    "colab": {
     "base_uri": "https://localhost:8080/"
    },
    "id": "ZpN91U-nUfXn",
    "outputId": "72bd0a47-72d7-4a55-9ae0-827ae6ddf675"
   },
   "outputs": [
    {
     "name": "stdout",
     "output_type": "stream",
     "text": [
      "[0 1 2 3 4 5]\n",
      "[ 979.  873.  780. 1024. 1098. 1127.]\n",
      "[0.16646829 0.14844414 0.13263051 0.17412005 0.18670294 0.19163408]\n"
     ]
    }
   ],
   "source": [
    "nb = GaussianNB()\n",
    "nb.fit(X_train,y_train)\n",
    "print(nb.classes_)\n",
    "print(nb.class_count_) #in training\n",
    "print(nb.class_prior_) #from training"
   ]
  },
  {
   "cell_type": "code",
   "execution_count": null,
   "metadata": {
    "id": "AxfFfep-U5Nd"
   },
   "outputs": [],
   "source": [
    "#see class counts - no need for smoothing"
   ]
  },
  {
   "cell_type": "code",
   "execution_count": null,
   "metadata": {
    "colab": {
     "base_uri": "https://localhost:8080/"
    },
    "id": "ULMH96oLS1nT",
    "outputId": "24d07a53-947b-4ffd-bdc0-3cea5d3353c8"
   },
   "outputs": [
    {
     "name": "stdout",
     "output_type": "stream",
     "text": [
      "Validation Accuracy    0.731475\n",
      "dtype: float64\n"
     ]
    }
   ],
   "source": [
    "cv = KFold(n_splits=10, random_state=1, shuffle=True)\n",
    "CVAccuracy=[]\n",
    "for i in cv.split(X_train):\n",
    "  nb = GaussianNB(var_smoothing=0)\n",
    "  nb.fit(X_train,y_train)\n",
    "  CVAccuracy.append([nb.score(X_val, y_val)])\n",
    "  df_unsmoothed = pd.DataFrame (CVAccuracy,columns=['Validation Accuracy'])\n",
    "\n",
    "df_unsmoothed=df_unsmoothed.mean()\n",
    "print(df_unsmoothed)"
   ]
  },
  {
   "cell_type": "code",
   "execution_count": null,
   "metadata": {
    "colab": {
     "base_uri": "https://localhost:8080/"
    },
    "id": "uDA-KWDkVx5i",
    "outputId": "bb0847fd-bd1a-4912-c0b7-dfcaeb553717"
   },
   "outputs": [
    {
     "name": "stdout",
     "output_type": "stream",
     "text": [
      "Validation Accuracy    0.730795\n",
      "dtype: float64\n"
     ]
    }
   ],
   "source": [
    "CVAccuracy=[]\n",
    "for i in cv.split(X_train):\n",
    "  nb = GaussianNB()\n",
    "  nb.fit(X_train,y_train)\n",
    "  CVAccuracy.append([nb.score(X_val, y_val)])\n",
    "  df_smoothed = pd.DataFrame (CVAccuracy,columns=['Validation Accuracy'])\n",
    "\n",
    "df_smoothed=df_smoothed.mean()\n",
    "print(df_smoothed)"
   ]
  },
  {
   "cell_type": "markdown",
   "metadata": {
    "id": "cOOw-zgcF_MD"
   },
   "source": [
    "# Prediction & Performance"
   ]
  },
  {
   "cell_type": "code",
   "execution_count": null,
   "metadata": {
    "id": "BegCj0iqMBn-"
   },
   "outputs": [],
   "source": [
    "#this cell is re-run to train the final model on the entire train & validation set\n",
    "X_train=train.iloc[:,:-3]\n",
    "y_train=train[\"Label\"]\n",
    "X_test=test.iloc[:,:-3]\n",
    "y_test=test[\"Label\"]\n",
    "X_train = np.array(X_train)\n",
    "X_test = np.array(X_test)\n",
    "y_train = np.array(y_train)\n",
    "y_test = np.array(y_test)"
   ]
  },
  {
   "cell_type": "code",
   "execution_count": null,
   "metadata": {
    "colab": {
     "base_uri": "https://localhost:8080/",
     "height": 142
    },
    "id": "990GcsXGMEWv",
    "outputId": "1a02bb42-ebca-4e95-c961-9422ce449748"
   },
   "outputs": [
    {
     "data": {
      "text/html": [
       "\n",
       "  <div id=\"df-a5d9ad83-794f-4920-bb0a-9029f4fe82d1\">\n",
       "    <div class=\"colab-df-container\">\n",
       "      <div>\n",
       "<style scoped>\n",
       "    .dataframe tbody tr th:only-of-type {\n",
       "        vertical-align: middle;\n",
       "    }\n",
       "\n",
       "    .dataframe tbody tr th {\n",
       "        vertical-align: top;\n",
       "    }\n",
       "\n",
       "    .dataframe thead th {\n",
       "        text-align: right;\n",
       "    }\n",
       "</style>\n",
       "<table border=\"1\" class=\"dataframe\">\n",
       "  <thead>\n",
       "    <tr style=\"text-align: right;\">\n",
       "      <th></th>\n",
       "      <th>Classifier</th>\n",
       "      <th>Accuracy</th>\n",
       "      <th>F1-Score (Macro)</th>\n",
       "      <th>Precision  (Macro)</th>\n",
       "      <th>Recall  (Macro)</th>\n",
       "      <th>F1-Score (Micro)</th>\n",
       "      <th>Precision  (Micro)</th>\n",
       "      <th>Recall  (Micro)</th>\n",
       "      <th>F1-Score (Weighted)</th>\n",
       "      <th>Precision  (Weighted)</th>\n",
       "      <th>Recall  (Weighted)</th>\n",
       "    </tr>\n",
       "  </thead>\n",
       "  <tbody>\n",
       "    <tr>\n",
       "      <th>0</th>\n",
       "      <td>GNB</td>\n",
       "      <td>0.770275</td>\n",
       "      <td>0.767235</td>\n",
       "      <td>0.792466</td>\n",
       "      <td>0.769066</td>\n",
       "      <td>0.770275</td>\n",
       "      <td>0.770275</td>\n",
       "      <td>0.770275</td>\n",
       "      <td>0.76877</td>\n",
       "      <td>0.794683</td>\n",
       "      <td>0.770275</td>\n",
       "    </tr>\n",
       "  </tbody>\n",
       "</table>\n",
       "</div>\n",
       "      <button class=\"colab-df-convert\" onclick=\"convertToInteractive('df-a5d9ad83-794f-4920-bb0a-9029f4fe82d1')\"\n",
       "              title=\"Convert this dataframe to an interactive table.\"\n",
       "              style=\"display:none;\">\n",
       "        \n",
       "  <svg xmlns=\"http://www.w3.org/2000/svg\" height=\"24px\"viewBox=\"0 0 24 24\"\n",
       "       width=\"24px\">\n",
       "    <path d=\"M0 0h24v24H0V0z\" fill=\"none\"/>\n",
       "    <path d=\"M18.56 5.44l.94 2.06.94-2.06 2.06-.94-2.06-.94-.94-2.06-.94 2.06-2.06.94zm-11 1L8.5 8.5l.94-2.06 2.06-.94-2.06-.94L8.5 2.5l-.94 2.06-2.06.94zm10 10l.94 2.06.94-2.06 2.06-.94-2.06-.94-.94-2.06-.94 2.06-2.06.94z\"/><path d=\"M17.41 7.96l-1.37-1.37c-.4-.4-.92-.59-1.43-.59-.52 0-1.04.2-1.43.59L10.3 9.45l-7.72 7.72c-.78.78-.78 2.05 0 2.83L4 21.41c.39.39.9.59 1.41.59.51 0 1.02-.2 1.41-.59l7.78-7.78 2.81-2.81c.8-.78.8-2.07 0-2.86zM5.41 20L4 18.59l7.72-7.72 1.47 1.35L5.41 20z\"/>\n",
       "  </svg>\n",
       "      </button>\n",
       "      \n",
       "  <style>\n",
       "    .colab-df-container {\n",
       "      display:flex;\n",
       "      flex-wrap:wrap;\n",
       "      gap: 12px;\n",
       "    }\n",
       "\n",
       "    .colab-df-convert {\n",
       "      background-color: #E8F0FE;\n",
       "      border: none;\n",
       "      border-radius: 50%;\n",
       "      cursor: pointer;\n",
       "      display: none;\n",
       "      fill: #1967D2;\n",
       "      height: 32px;\n",
       "      padding: 0 0 0 0;\n",
       "      width: 32px;\n",
       "    }\n",
       "\n",
       "    .colab-df-convert:hover {\n",
       "      background-color: #E2EBFA;\n",
       "      box-shadow: 0px 1px 2px rgba(60, 64, 67, 0.3), 0px 1px 3px 1px rgba(60, 64, 67, 0.15);\n",
       "      fill: #174EA6;\n",
       "    }\n",
       "\n",
       "    [theme=dark] .colab-df-convert {\n",
       "      background-color: #3B4455;\n",
       "      fill: #D2E3FC;\n",
       "    }\n",
       "\n",
       "    [theme=dark] .colab-df-convert:hover {\n",
       "      background-color: #434B5C;\n",
       "      box-shadow: 0px 1px 3px 1px rgba(0, 0, 0, 0.15);\n",
       "      filter: drop-shadow(0px 1px 2px rgba(0, 0, 0, 0.3));\n",
       "      fill: #FFFFFF;\n",
       "    }\n",
       "  </style>\n",
       "\n",
       "      <script>\n",
       "        const buttonEl =\n",
       "          document.querySelector('#df-a5d9ad83-794f-4920-bb0a-9029f4fe82d1 button.colab-df-convert');\n",
       "        buttonEl.style.display =\n",
       "          google.colab.kernel.accessAllowed ? 'block' : 'none';\n",
       "\n",
       "        async function convertToInteractive(key) {\n",
       "          const element = document.querySelector('#df-a5d9ad83-794f-4920-bb0a-9029f4fe82d1');\n",
       "          const dataTable =\n",
       "            await google.colab.kernel.invokeFunction('convertToInteractive',\n",
       "                                                     [key], {});\n",
       "          if (!dataTable) return;\n",
       "\n",
       "          const docLinkHtml = 'Like what you see? Visit the ' +\n",
       "            '<a target=\"_blank\" href=https://colab.research.google.com/notebooks/data_table.ipynb>data table notebook</a>'\n",
       "            + ' to learn more about interactive tables.';\n",
       "          element.innerHTML = '';\n",
       "          dataTable['output_type'] = 'display_data';\n",
       "          await google.colab.output.renderOutput(dataTable, element);\n",
       "          const docLink = document.createElement('div');\n",
       "          docLink.innerHTML = docLinkHtml;\n",
       "          element.appendChild(docLink);\n",
       "        }\n",
       "      </script>\n",
       "    </div>\n",
       "  </div>\n",
       "  "
      ],
      "text/plain": [
       "  Classifier  Accuracy  F1-Score (Macro)  Precision  (Macro)  Recall  (Macro)  \\\n",
       "0        GNB  0.770275          0.767235            0.792466         0.769066   \n",
       "\n",
       "   F1-Score (Micro)  Precision  (Micro)  Recall  (Micro)  F1-Score (Weighted)  \\\n",
       "0          0.770275            0.770275         0.770275              0.76877   \n",
       "\n",
       "   Precision  (Weighted)  Recall  (Weighted)  \n",
       "0               0.794683            0.770275  "
      ]
     },
     "execution_count": 13,
     "metadata": {},
     "output_type": "execute_result"
    }
   ],
   "source": [
    "nb = GaussianNB(var_smoothing=0) #only arguements it takes: prior & smoothing\n",
    "\n",
    "nb.fit(X_train,y_train)\n",
    "y_pred = nb.predict(X_test)\n",
    "get_scores(y_test,y_pred,\"GNB\")"
   ]
  },
  {
   "cell_type": "code",
   "execution_count": null,
   "metadata": {
    "colab": {
     "base_uri": "https://localhost:8080/",
     "height": 279
    },
    "id": "OxhXpui5MSYs",
    "outputId": "0e86878b-3fe5-4bba-8bce-b61db048a2bc"
   },
   "outputs": [
    {
     "data": {
      "image/png": "[encoded data removed]",
      "text/plain": [
       "<Figure size 432x288 with 2 Axes>"
      ]
     },
     "metadata": {
      "needs_background": "light"
     },
     "output_type": "display_data"
    }
   ],
   "source": [
    "conf = confusion_matrix(y_test, y_pred)\n",
    "disp = ConfusionMatrixDisplay(conf).plot(cmap=plt.cm.PuBuGn)"
   ]
  },
  {
   "cell_type": "markdown",
   "metadata": {
    "id": "xbu7mbrYWumw"
   },
   "source": [
    "# w/ Feature Selection"
   ]
  },
  {
   "cell_type": "code",
   "execution_count": null,
   "metadata": {
    "id": "ZVc34gfxhzPn"
   },
   "outputs": [],
   "source": [
    "selector = SelectFromModel(estimator=LogisticRegression(max_iter=10000)).fit(X_train, y_train)"
   ]
  },
  {
   "cell_type": "code",
   "execution_count": null,
   "metadata": {
    "colab": {
     "base_uri": "https://localhost:8080/"
    },
    "id": "Lrt0lzPFiMpY",
    "outputId": "f888d514-3e5c-46e6-b0b4-c585e5936e34"
   },
   "outputs": [
    {
     "data": {
      "text/plain": [
       "0.9650203508155041"
      ]
     },
     "execution_count": 16,
     "metadata": {},
     "output_type": "execute_result"
    }
   ],
   "source": [
    "selector.threshold_"
   ]
  },
  {
   "cell_type": "code",
   "execution_count": null,
   "metadata": {
    "colab": {
     "base_uri": "https://localhost:8080/"
    },
    "id": "CHEtGro1MZ2F",
    "outputId": "2ca08678-52fc-4344-eb86-ea7d14a0eb81"
   },
   "outputs": [
    {
     "name": "stderr",
     "output_type": "stream",
     "text": [
      "/usr/local/lib/python3.8/dist-packages/sklearn/base.py:443: UserWarning: X has feature names, but SelectFromModel was fitted without feature names\n",
      "  warnings.warn(\n"
     ]
    },
    {
     "data": {
      "text/plain": [
       "(7352, 190)"
      ]
     },
     "execution_count": 17,
     "metadata": {},
     "output_type": "execute_result"
    }
   ],
   "source": [
    "X_new_train=selector.transform(X_train)\n",
    "X_new_test=selector.transform(X_test)\n",
    "X_new_val=selector.transform(X_val)\n",
    "X_new_train.shape"
   ]
  },
  {
   "cell_type": "code",
   "execution_count": null,
   "metadata": {
    "colab": {
     "base_uri": "https://localhost:8080/",
     "height": 142
    },
    "id": "RoLVY93hM-FL",
    "outputId": "95eead0b-31ac-422a-f4a9-5e4ae5ab96dc"
   },
   "outputs": [
    {
     "data": {
      "text/html": [
       "\n",
       "  <div id=\"df-6b1505b6-d3e0-4d84-b4d6-295d465faefd\">\n",
       "    <div class=\"colab-df-container\">\n",
       "      <div>\n",
       "<style scoped>\n",
       "    .dataframe tbody tr th:only-of-type {\n",
       "        vertical-align: middle;\n",
       "    }\n",
       "\n",
       "    .dataframe tbody tr th {\n",
       "        vertical-align: top;\n",
       "    }\n",
       "\n",
       "    .dataframe thead th {\n",
       "        text-align: right;\n",
       "    }\n",
       "</style>\n",
       "<table border=\"1\" class=\"dataframe\">\n",
       "  <thead>\n",
       "    <tr style=\"text-align: right;\">\n",
       "      <th></th>\n",
       "      <th>Classifier</th>\n",
       "      <th>Accuracy</th>\n",
       "      <th>F1-Score (Macro)</th>\n",
       "      <th>Precision  (Macro)</th>\n",
       "      <th>Recall  (Macro)</th>\n",
       "      <th>F1-Score (Micro)</th>\n",
       "      <th>Precision  (Micro)</th>\n",
       "      <th>Recall  (Micro)</th>\n",
       "      <th>F1-Score (Weighted)</th>\n",
       "      <th>Precision  (Weighted)</th>\n",
       "      <th>Recall  (Weighted)</th>\n",
       "    </tr>\n",
       "  </thead>\n",
       "  <tbody>\n",
       "    <tr>\n",
       "      <th>0</th>\n",
       "      <td>GNB</td>\n",
       "      <td>0.872413</td>\n",
       "      <td>0.866081</td>\n",
       "      <td>0.888347</td>\n",
       "      <td>0.867408</td>\n",
       "      <td>0.872413</td>\n",
       "      <td>0.872413</td>\n",
       "      <td>0.872413</td>\n",
       "      <td>0.867909</td>\n",
       "      <td>0.887103</td>\n",
       "      <td>0.872413</td>\n",
       "    </tr>\n",
       "  </tbody>\n",
       "</table>\n",
       "</div>\n",
       "      <button class=\"colab-df-convert\" onclick=\"convertToInteractive('df-6b1505b6-d3e0-4d84-b4d6-295d465faefd')\"\n",
       "              title=\"Convert this dataframe to an interactive table.\"\n",
       "              style=\"display:none;\">\n",
       "        \n",
       "  <svg xmlns=\"http://www.w3.org/2000/svg\" height=\"24px\"viewBox=\"0 0 24 24\"\n",
       "       width=\"24px\">\n",
       "    <path d=\"M0 0h24v24H0V0z\" fill=\"none\"/>\n",
       "    <path d=\"M18.56 5.44l.94 2.06.94-2.06 2.06-.94-2.06-.94-.94-2.06-.94 2.06-2.06.94zm-11 1L8.5 8.5l.94-2.06 2.06-.94-2.06-.94L8.5 2.5l-.94 2.06-2.06.94zm10 10l.94 2.06.94-2.06 2.06-.94-2.06-.94-.94-2.06-.94 2.06-2.06.94z\"/><path d=\"M17.41 7.96l-1.37-1.37c-.4-.4-.92-.59-1.43-.59-.52 0-1.04.2-1.43.59L10.3 9.45l-7.72 7.72c-.78.78-.78 2.05 0 2.83L4 21.41c.39.39.9.59 1.41.59.51 0 1.02-.2 1.41-.59l7.78-7.78 2.81-2.81c.8-.78.8-2.07 0-2.86zM5.41 20L4 18.59l7.72-7.72 1.47 1.35L5.41 20z\"/>\n",
       "  </svg>\n",
       "      </button>\n",
       "      \n",
       "  <style>\n",
       "    .colab-df-container {\n",
       "      display:flex;\n",
       "      flex-wrap:wrap;\n",
       "      gap: 12px;\n",
       "    }\n",
       "\n",
       "    .colab-df-convert {\n",
       "      background-color: #E8F0FE;\n",
       "      border: none;\n",
       "      border-radius: 50%;\n",
       "      cursor: pointer;\n",
       "      display: none;\n",
       "      fill: #1967D2;\n",
       "      height: 32px;\n",
       "      padding: 0 0 0 0;\n",
       "      width: 32px;\n",
       "    }\n",
       "\n",
       "    .colab-df-convert:hover {\n",
       "      background-color: #E2EBFA;\n",
       "      box-shadow: 0px 1px 2px rgba(60, 64, 67, 0.3), 0px 1px 3px 1px rgba(60, 64, 67, 0.15);\n",
       "      fill: #174EA6;\n",
       "    }\n",
       "\n",
       "    [theme=dark] .colab-df-convert {\n",
       "      background-color: #3B4455;\n",
       "      fill: #D2E3FC;\n",
       "    }\n",
       "\n",
       "    [theme=dark] .colab-df-convert:hover {\n",
       "      background-color: #434B5C;\n",
       "      box-shadow: 0px 1px 3px 1px rgba(0, 0, 0, 0.15);\n",
       "      filter: drop-shadow(0px 1px 2px rgba(0, 0, 0, 0.3));\n",
       "      fill: #FFFFFF;\n",
       "    }\n",
       "  </style>\n",
       "\n",
       "      <script>\n",
       "        const buttonEl =\n",
       "          document.querySelector('#df-6b1505b6-d3e0-4d84-b4d6-295d465faefd button.colab-df-convert');\n",
       "        buttonEl.style.display =\n",
       "          google.colab.kernel.accessAllowed ? 'block' : 'none';\n",
       "\n",
       "        async function convertToInteractive(key) {\n",
       "          const element = document.querySelector('#df-6b1505b6-d3e0-4d84-b4d6-295d465faefd');\n",
       "          const dataTable =\n",
       "            await google.colab.kernel.invokeFunction('convertToInteractive',\n",
       "                                                     [key], {});\n",
       "          if (!dataTable) return;\n",
       "\n",
       "          const docLinkHtml = 'Like what you see? Visit the ' +\n",
       "            '<a target=\"_blank\" href=https://colab.research.google.com/notebooks/data_table.ipynb>data table notebook</a>'\n",
       "            + ' to learn more about interactive tables.';\n",
       "          element.innerHTML = '';\n",
       "          dataTable['output_type'] = 'display_data';\n",
       "          await google.colab.output.renderOutput(dataTable, element);\n",
       "          const docLink = document.createElement('div');\n",
       "          docLink.innerHTML = docLinkHtml;\n",
       "          element.appendChild(docLink);\n",
       "        }\n",
       "      </script>\n",
       "    </div>\n",
       "  </div>\n",
       "  "
      ],
      "text/plain": [
       "  Classifier  Accuracy  F1-Score (Macro)  Precision  (Macro)  Recall  (Macro)  \\\n",
       "0        GNB  0.872413          0.866081            0.888347         0.867408   \n",
       "\n",
       "   F1-Score (Micro)  Precision  (Micro)  Recall  (Micro)  F1-Score (Weighted)  \\\n",
       "0          0.872413            0.872413         0.872413             0.867909   \n",
       "\n",
       "   Precision  (Weighted)  Recall  (Weighted)  \n",
       "0               0.887103            0.872413  "
      ]
     },
     "execution_count": 18,
     "metadata": {},
     "output_type": "execute_result"
    }
   ],
   "source": [
    "nb = GaussianNB(var_smoothing=0)\n",
    "nb.fit(X_new_train,y_train)\n",
    "y_pred = nb.predict(X_new_test)\n",
    "get_scores(y_test,y_pred,\"GNB\")"
   ]
  },
  {
   "cell_type": "code",
   "execution_count": null,
   "metadata": {
    "colab": {
     "base_uri": "https://localhost:8080/",
     "height": 279
    },
    "id": "4jCW8AOPNWYp",
    "outputId": "bec4c3c9-ea49-4b8d-8aec-7df28064d615"
   },
   "outputs": [
    {
     "data": {
      "image/png": "[encoded data removed]",
      "text/plain": [
       "<Figure size 432x288 with 2 Axes>"
      ]
     },
     "metadata": {
      "needs_background": "light"
     },
     "output_type": "display_data"
    }
   ],
   "source": [
    "conf = confusion_matrix(y_test, y_pred)\n",
    "disp = ConfusionMatrixDisplay(conf).plot(cmap=plt.cm.PuBuGn)"
   ]
  }
 ],
 "metadata": {
  "colab": {
   "provenance": []
  },
  "kernelspec": {
   "display_name": "Python 3",
   "language": "python",
   "name": "python3"
  },
  "language_info": {
   "codemirror_mode": {
    "name": "ipython",
    "version": 3
   },
   "file_extension": ".py",
   "mimetype": "text/x-python",
   "name": "python",
   "nbconvert_exporter": "python",
   "pygments_lexer": "ipython3",
   "version": "3.8.5"
  }
 },
 "nbformat": 4,
 "nbformat_minor": 1
}
